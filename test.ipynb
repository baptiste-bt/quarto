{
 "cells": [
  {
   "cell_type": "code",
   "execution_count": 3,
   "metadata": {},
   "outputs": [],
   "source": [
    "import numpy as np\n",
    "from quarto_env import QuartoEnv\n",
    "import time\n",
    "\n",
    "from stable_baselines3.ppo import PPO\n",
    "from stable_baselines3.common.env_checker import check_env"
   ]
  },
  {
   "cell_type": "code",
   "execution_count": 2,
   "metadata": {},
   "outputs": [
    {
     "name": "stdout",
     "output_type": "stream",
     "text": [
      "Using cpu device\n",
      "Wrapping the env with a `Monitor` wrapper\n",
      "Wrapping the env in a DummyVecEnv.\n"
     ]
    }
   ],
   "source": [
    "env = QuartoEnv(opponent='random')\n",
    "\n",
    "model = PPO(\"MlpPolicy\", env, verbose=1)\n"
   ]
  },
  {
   "cell_type": "code",
   "execution_count": 5,
   "metadata": {},
   "outputs": [],
   "source": [
    "check_env(env)"
   ]
  },
  {
   "cell_type": "code",
   "execution_count": 6,
   "metadata": {},
   "outputs": [],
   "source": [
    "obs = env.reset()"
   ]
  },
  {
   "cell_type": "code",
   "execution_count": 8,
   "metadata": {},
   "outputs": [
    {
     "data": {
      "text/plain": [
       "array([[[0, 0, 0, 0, 0, 0],\n",
       "        [0, 0, 0, 0, 0, 0],\n",
       "        [0, 0, 0, 0, 0, 0],\n",
       "        [0, 0, 0, 0, 0, 0]],\n",
       "\n",
       "       [[0, 0, 0, 0, 0, 0],\n",
       "        [0, 0, 0, 0, 0, 0],\n",
       "        [0, 0, 0, 0, 0, 0],\n",
       "        [0, 0, 0, 0, 0, 0]],\n",
       "\n",
       "       [[0, 0, 0, 0, 0, 0],\n",
       "        [0, 0, 0, 0, 0, 0],\n",
       "        [0, 0, 0, 0, 0, 0],\n",
       "        [0, 0, 0, 0, 0, 0]],\n",
       "\n",
       "       [[0, 0, 0, 0, 0, 1],\n",
       "        [0, 0, 0, 0, 0, 0],\n",
       "        [0, 0, 0, 0, 0, 0],\n",
       "        [0, 0, 0, 0, 0, 0]]], dtype=uint8)"
      ]
     },
     "execution_count": 8,
     "metadata": {},
     "output_type": "execute_result"
    }
   ],
   "source": [
    "obs"
   ]
  },
  {
   "cell_type": "code",
   "execution_count": 11,
   "metadata": {},
   "outputs": [
    {
     "data": {
      "text/plain": [
       "(array([14, 13]), None)"
      ]
     },
     "execution_count": 11,
     "metadata": {},
     "output_type": "execute_result"
    }
   ],
   "source": []
  },
  {
   "cell_type": "code",
   "execution_count": 16,
   "metadata": {},
   "outputs": [
    {
     "name": "stdout",
     "output_type": "stream",
     "text": [
      "Invalid move\n",
      "Invalid move\n",
      "Invalid move\n",
      "Invalid move\n",
      "Invalid move\n",
      "Invalid move\n",
      "Invalid move\n",
      "Invalid move\n",
      "Invalid move\n",
      "Invalid move\n",
      "Invalid move\n",
      "Invalid move\n",
      "Invalid move\n",
      "Invalid move\n",
      "Invalid move\n",
      "Invalid move\n",
      "Invalid move\n",
      "Invalid move\n",
      "Invalid move\n",
      "Invalid move\n",
      "Invalid move\n",
      "Invalid move\n",
      "Invalid move\n",
      "Invalid move\n",
      "Invalid move\n",
      "Invalid move\n",
      "Invalid move\n",
      "Invalid move\n",
      "Invalid move\n",
      "Invalid move\n",
      "Invalid move\n",
      "Invalid move\n",
      "Invalid move\n",
      "Invalid move\n",
      "Invalid move\n",
      "Invalid move\n",
      "Invalid move\n",
      "Invalid move\n",
      "Invalid move\n",
      "Invalid move\n",
      "Invalid move\n",
      "Invalid move\n",
      "colonne end\n",
      "diaggd end\n",
      "Invalid move\n",
      "Invalid move\n",
      "Invalid move\n",
      "Invalid move\n",
      "Invalid move\n",
      "Invalid move\n"
     ]
    }
   ],
   "source": [
    "env = QuartoEnv()\n",
    "obs = env.reset()\n",
    "done = False\n",
    "\n",
    "timers = [0, 0]\n",
    "cpt = 0\n",
    "for i in range(100):\n",
    "    done = False\n",
    "    obs = env.reset()\n",
    "    while not done:\n",
    "        t0 = time.time()\n",
    "        action = env.action_space.sample()\n",
    "        timers[0] += time.time() - t0\n",
    "        # env.render()\n",
    "        # action1 = int(input('choose where you place the piece:'))\n",
    "        # action2 = int(input('choose the piece you give:'))\n",
    "        # action = (action1, action2)\n",
    "        t0 = time.time()\n",
    "        obs, reward, done, info = env.step(action)\n",
    "        timers[1] += time.time() - t0\n",
    "        cpt +=  1\n",
    "\n"
   ]
  }
 ],
 "metadata": {
  "kernelspec": {
   "display_name": "jupyterEnv",
   "language": "python",
   "name": "python3"
  },
  "language_info": {
   "codemirror_mode": {
    "name": "ipython",
    "version": 3
   },
   "file_extension": ".py",
   "mimetype": "text/x-python",
   "name": "python",
   "nbconvert_exporter": "python",
   "pygments_lexer": "ipython3",
   "version": "3.8.10"
  },
  "orig_nbformat": 4,
  "vscode": {
   "interpreter": {
    "hash": "e127fbee5c58cbc7a0b0fb69fd1f811fa2aed555fc95680370d06c39a063fe03"
   }
  }
 },
 "nbformat": 4,
 "nbformat_minor": 2
}
